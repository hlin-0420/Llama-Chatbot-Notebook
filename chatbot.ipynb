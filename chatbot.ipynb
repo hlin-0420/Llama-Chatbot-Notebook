{
 "cells": [
  {
   "cell_type": "code",
   "execution_count": null,
   "metadata": {
    "vscode": {
     "languageId": "plaintext"
    }
   },
   "outputs": [],
   "source": [
    "!pip install beautifulsoup4 pandas langchain langchain-community langchain-huggingface langchain-ollama langchain-core tabulate regex sentence-transformers numpy rapidfuzz nltk requests scikit-learn torch"
   ]
  }
 ],
 "metadata": {
  "language_info": {
   "name": "python"
  }
 },
 "nbformat": 4,
 "nbformat_minor": 2
}
