{
  "cells": [
    {
      "cell_type": "markdown",
      "metadata": {
        "colab_type": "text",
        "id": "view-in-github"
      },
      "source": [
        "<a href=\"https://colab.research.google.com/github/hlin-0420/Llama-Chatbot-Notebook/blob/main/Llama_Chatbot.ipynb\" target=\"_parent\"><img src=\"https://colab.research.google.com/assets/colab-badge.svg\" alt=\"Open In Colab\"/></a>"
      ]
    },
    {
      "cell_type": "markdown",
      "metadata": {
        "id": "j-7LwVxbL7UD"
      },
      "source": [
        "## Library Import"
      ]
    },
    {
      "cell_type": "code",
      "execution_count": 1,
      "metadata": {},
      "outputs": [],
      "source": [
        "import cohere\n",
        "import numpy as np\n",
        "import pandas as pd\n",
        "from tqdm import tqdm"
      ]
    },
    {
      "cell_type": "markdown",
      "metadata": {
        "id": "1zBA7uaxMAQc"
      },
      "source": [
        "## Data Loading"
      ]
    },
    {
      "cell_type": "code",
      "execution_count": 2,
      "metadata": {},
      "outputs": [],
      "source": [
        "training_data_filename = \"processed_content.txt\""
      ]
    },
    {
      "cell_type": "code",
      "execution_count": 3,
      "metadata": {},
      "outputs": [],
      "source": [
        "def load_content(filename=\"processed_content.txt\"):\n",
        "    try:\n",
        "        with open(filename, \"r\", encoding=\"utf-8\") as file:\n",
        "            content = file.read()\n",
        "        print(\"Content loaded successfully!\")\n",
        "        return content\n",
        "    except FileNotFoundError:\n",
        "        print(f\"Error: The file '{filename}' was not found.\")\n",
        "    except Exception as e:\n",
        "        print(f\"An error occurred: {e}\")"
      ]
    },
    {
      "cell_type": "code",
      "execution_count": 4,
      "metadata": {},
      "outputs": [
        {
          "name": "stdout",
          "output_type": "stream",
          "text": [
            "Content loaded successfully!\n"
          ]
        }
      ],
      "source": [
        "content = load_content(training_data_filename)"
      ]
    },
    {
      "cell_type": "markdown",
      "metadata": {},
      "source": [
        "## API Key"
      ]
    },
    {
      "cell_type": "code",
      "execution_count": 5,
      "metadata": {},
      "outputs": [
        {
          "name": "stdout",
          "output_type": "stream",
          "text": [
            "Content loaded successfully!\n"
          ]
        }
      ],
      "source": [
        "api_key_file = \"api_key.txt\"\n",
        "\n",
        "api_key = load_content(api_key_file)"
      ]
    },
    {
      "cell_type": "code",
      "execution_count": 6,
      "metadata": {},
      "outputs": [],
      "source": [
        "co = cohere.Client(api_key)"
      ]
    },
    {
      "cell_type": "markdown",
      "metadata": {},
      "source": [
        "## Content Processing"
      ]
    },
    {
      "cell_type": "code",
      "execution_count": 7,
      "metadata": {},
      "outputs": [],
      "source": [
        "content = content.split(\".\")\n",
        "\n",
        "content = [c.strip('/n') for c in content]"
      ]
    },
    {
      "cell_type": "markdown",
      "metadata": {},
      "source": [
        "## Embedding"
      ]
    },
    {
      "cell_type": "code",
      "execution_count": 10,
      "metadata": {},
      "outputs": [
        {
          "name": "stdout",
          "output_type": "stream",
          "text": [
            "(3897, 4096)\n"
          ]
        }
      ],
      "source": [
        "response = co.embed(texts = content, input_type=\"search_document\", ).embeddings\n",
        "\n",
        "embeds = np.array(response)\n",
        "\n",
        "print(embeds.shape)"
      ]
    },
    {
      "cell_type": "code",
      "execution_count": 11,
      "metadata": {},
      "outputs": [],
      "source": [
        "# Save embeddings to a file\n",
        "np.save(\"embeddings.npy\", embeds)"
      ]
    },
    {
      "cell_type": "markdown",
      "metadata": {},
      "source": [
        "## Building Search Index"
      ]
    },
    {
      "cell_type": "code",
      "execution_count": 13,
      "metadata": {},
      "outputs": [],
      "source": [
        "import faiss"
      ]
    },
    {
      "cell_type": "code",
      "execution_count": 14,
      "metadata": {},
      "outputs": [],
      "source": [
        "dim = embeds.shape[1]"
      ]
    },
    {
      "cell_type": "code",
      "execution_count": 15,
      "metadata": {},
      "outputs": [],
      "source": [
        "index = faiss.IndexFlatL2(dim)"
      ]
    },
    {
      "cell_type": "code",
      "execution_count": 16,
      "metadata": {},
      "outputs": [
        {
          "name": "stdout",
          "output_type": "stream",
          "text": [
            "True\n"
          ]
        }
      ],
      "source": [
        "print(index.is_trained)"
      ]
    },
    {
      "cell_type": "code",
      "execution_count": 17,
      "metadata": {},
      "outputs": [],
      "source": [
        "index.add(np.float32(embeds))"
      ]
    },
    {
      "cell_type": "markdown",
      "metadata": {},
      "source": [
        "## Search"
      ]
    },
    {
      "cell_type": "code",
      "execution_count": 20,
      "metadata": {},
      "outputs": [],
      "source": [
        "def search(query, number_of_results = 3):\n",
        "    query_embeds = co.embed(texts = [query], input_type = \"search_query\").embeddings[0]\n",
        "\n",
        "    distances, similar_item_ids = index.search(np.float32([query_embeds]), number_of_results)\n",
        "\n",
        "    texts_np = np.array(content)\n",
        "\n",
        "    results = pd.DataFrame(data = {'texts': texts_np[similar_item_ids[0]], 'distance': distances[0]})\n",
        "\n",
        "    print(f\"Query: {query}\\nResults:\")\n",
        "    return results"
      ]
    },
    {
      "cell_type": "code",
      "execution_count": 21,
      "metadata": {},
      "outputs": [
        {
          "name": "stdout",
          "output_type": "stream",
          "text": [
            "Query: How many tadpole definitions am I allowed to create?\n",
            "Results:\n"
          ]
        },
        {
          "data": {
            "text/html": [
              "<div>\n",
              "<style scoped>\n",
              "    .dataframe tbody tr th:only-of-type {\n",
              "        vertical-align: middle;\n",
              "    }\n",
              "\n",
              "    .dataframe tbody tr th {\n",
              "        vertical-align: top;\n",
              "    }\n",
              "\n",
              "    .dataframe thead th {\n",
              "        text-align: right;\n",
              "    }\n",
              "</style>\n",
              "<table border=\"1\" class=\"dataframe\">\n",
              "  <thead>\n",
              "    <tr style=\"text-align: right;\">\n",
              "      <th></th>\n",
              "      <th>texts</th>\n",
              "      <th>distance</th>\n",
              "    </tr>\n",
              "  </thead>\n",
              "  <tbody>\n",
              "    <tr>\n",
              "      <th>0</th>\n",
              "      <td>\\n\\nEnter a name for this tadpole definition i...</td>\n",
              "      <td>5138.734375</td>\n",
              "    </tr>\n",
              "    <tr>\n",
              "      <th>1</th>\n",
              "      <td>\\n\\nFor a new tadpole definition, select an un...</td>\n",
              "      <td>6227.813965</td>\n",
              "    </tr>\n",
              "    <tr>\n",
              "      <th>2</th>\n",
              "      <td>TheTadpole Definitionswill ope</td>\n",
              "      <td>6267.456055</td>\n",
              "    </tr>\n",
              "  </tbody>\n",
              "</table>\n",
              "</div>"
            ],
            "text/plain": [
              "                                               texts     distance\n",
              "0  \\n\\nEnter a name for this tadpole definition i...  5138.734375\n",
              "1  \\n\\nFor a new tadpole definition, select an un...  6227.813965\n",
              "2                     TheTadpole Definitionswill ope  6267.456055"
            ]
          },
          "execution_count": 21,
          "metadata": {},
          "output_type": "execute_result"
        }
      ],
      "source": [
        "query = \"How many tadpole definitions am I allowed to create?\"\n",
        "results = search(query)\n",
        "results"
      ]
    },
    {
      "cell_type": "markdown",
      "metadata": {
        "id": "iWp43p2UMCQ4"
      },
      "source": [
        "## Models"
      ]
    },
    {
      "cell_type": "code",
      "execution_count": null,
      "metadata": {
        "id": "7mJLfF3wCnpu"
      },
      "outputs": [],
      "source": [
        "class RAGApplication:\n",
        "    def __init__(self, retriever, rag_chain, web_documents):\n",
        "        self.retriever = retriever\n",
        "        self.rag_chain = rag_chain\n",
        "        self.web_documents = web_documents  # Store the documents for feedback retrieval\n",
        "        self.feedback_model = SentenceTransformer(\"./embeddings/offline_model\")  # Embedding model for similarity\n",
        "        self.feedback_data, self.feedback_embeddings = self._load_feedback()\n",
        "\n",
        "    def _load_feedback(self):\n",
        "        \"\"\"Loads feedback from file and precomputes embeddings to optimize retrieval.\"\"\"\n",
        "        if not os.path.exists(FEEDBACK_FILE):\n",
        "            logging.warning(\"⚠️ No feedback file found.\")\n",
        "            return [], []\n",
        "\n",
        "        try:\n",
        "            with open(FEEDBACK_FILE, \"r\", encoding=\"utf-8\") as file:\n",
        "                feedback_data = json.load(file)  # Load feedback JSON array\n",
        "        except json.JSONDecodeError:\n",
        "            logging.error(\"⚠️ Error decoding feedback JSON file. Returning empty feedback.\")\n",
        "            return [], []\n",
        "\n",
        "        extracted_feedback = [\n",
        "            {\n",
        "                \"question\": entry[\"question\"],\n",
        "                \"feedback\": entry[\"feedback\"],\n",
        "                \"rating\": int(entry.get(\"rating-score\", 0))\n",
        "            }\n",
        "            for entry in feedback_data if \"question\" in entry and \"feedback\" in entry\n",
        "        ]\n",
        "\n",
        "        if not extracted_feedback:\n",
        "            logging.warning(\"⚠️ No valid feedback extracted.\")\n",
        "            return [], []\n",
        "\n",
        "        # Compute embeddings in parallel\n",
        "        with ThreadPoolExecutor() as executor:\n",
        "            feedback_embeddings = list(executor.map(\n",
        "                lambda fb: self.feedback_model.encode(fb[\"question\"], convert_to_tensor=True),\n",
        "                extracted_feedback\n",
        "            ))\n",
        "\n",
        "        return extracted_feedback, feedback_embeddings\n",
        "\n",
        "    def _get_relevant_feedback(self, question, top_k=3):\n",
        "        \"\"\"Retrieve the most relevant feedback based on semantic similarity.\"\"\"\n",
        "        if not self.feedback_data:\n",
        "            return \"\"\n",
        "\n",
        "        # Compute embedding for the new question\n",
        "        question_embedding = self.feedback_model.encode(question, convert_to_tensor=True)\n",
        "\n",
        "        # Compute cosine similarities\n",
        "        similarities = np.array([\n",
        "            util.pytorch_cos_sim(question_embedding, fb_emb)[0].item()\n",
        "            for fb_emb in self.feedback_embeddings\n",
        "        ])\n",
        "\n",
        "        # Get indices of top-k similar feedback\n",
        "        top_indices = similarities.argsort()[-top_k:][::-1]\n",
        "\n",
        "        # Extract unique questions while maintaining order\n",
        "        selected_feedback = []\n",
        "        unique_questions = set()\n",
        "\n",
        "        for idx in top_indices:\n",
        "            fb = self.feedback_data[idx]\n",
        "            base_question = fb[\"question\"].lower().strip(\"?\")\n",
        "            if base_question not in unique_questions:\n",
        "                selected_feedback.append(fb[\"feedback\"])\n",
        "                unique_questions.add(base_question)\n",
        "            if len(selected_feedback) >= top_k:\n",
        "                break\n",
        "\n",
        "        return \"\\n\".join(selected_feedback) if selected_feedback else \"\"\n",
        "\n",
        "    def run(self, question):\n",
        "        \"\"\"Runs the RAG retrieval and generates a response with detailed runtime analysis.\"\"\"\n",
        "\n",
        "        total_start_time = time.perf_counter()  # Start total execution timer\n",
        "\n",
        "        # Step 1: Retrieve relevant documents\n",
        "        retrieval_start_time = time.perf_counter()\n",
        "        documents = self.retriever.invoke(question)\n",
        "        retrieval_end_time = time.perf_counter()\n",
        "        retrieval_time = retrieval_end_time - retrieval_start_time\n",
        "\n",
        "        doc_texts = \"\\n\".join(doc.page_content for doc in documents)\n",
        "\n",
        "        # Step 2: Retrieve relevant feedback\n",
        "        feedback_start_time = time.perf_counter()\n",
        "        feedback_texts = self._get_relevant_feedback(question)\n",
        "        feedback_end_time = time.perf_counter()\n",
        "        feedback_time = feedback_end_time - feedback_start_time\n",
        "\n",
        "        if not feedback_texts.strip():\n",
        "            logging.warning(\"⚠️ No feedback found for this query.\")\n",
        "\n",
        "        # Step 3: Generate the answer using the updated prompt format\n",
        "        response_start_time = time.perf_counter()\n",
        "        response = self.rag_chain.invoke({\n",
        "            \"question\": question,\n",
        "            \"documents\": doc_texts,\n",
        "            \"feedback\": feedback_texts,\n",
        "            \"stream\": True\n",
        "        })\n",
        "        response_end_time = time.perf_counter()\n",
        "        response_time = response_end_time - response_start_time\n",
        "\n",
        "        total_end_time = time.perf_counter()\n",
        "        total_execution_time = total_end_time - total_start_time\n",
        "\n",
        "        # Logging detailed runtime analysis\n",
        "        logging.info(f\"🕒 RAG Execution Time Breakdown:\")\n",
        "        logging.info(f\"   - Document Retrieval Time: {retrieval_time:.4f} seconds\")\n",
        "        logging.info(f\"   - Feedback Extraction Time: {feedback_time:.4f} seconds\")\n",
        "        logging.info(f\"   - Response Generation Time: {response_time:.4f} seconds\")\n",
        "        logging.info(f\"   - Total Execution Time: {total_execution_time:.4f} seconds\")\n",
        "\n",
        "        return response"
      ]
    },
    {
      "cell_type": "code",
      "execution_count": null,
      "metadata": {
        "id": "peXWuEVyE1ci"
      },
      "outputs": [],
      "source": [
        "def extract_text(soup):\n",
        "    # Define navigation-related keyword patterns\n",
        "    navigation_keywords = [\n",
        "        r'contact\\s+us', r'click\\s+(here|for)', r'guidance', r'help', r'support', r'assistance',\n",
        "        r'maximize\\s+screen', r'view\\s+details', r'read\\s+more', r'convert.*file', r'FAQ', r'learn\\s+more'\n",
        "    ]\n",
        "\n",
        "    navigation_pattern = re.compile(r\"|\".join(navigation_keywords), re.IGNORECASE)\n",
        "\n",
        "    # Remove navigation-related text\n",
        "    for tag in soup.find_all(\"p\"):\n",
        "        if navigation_pattern.search(tag.text):\n",
        "            tag.decompose()\n",
        "\n",
        "    # Extract only meaningful paragraph text (excluding very short ones)\n",
        "    paragraphs = [p.get_text(strip=True) for p in soup.find_all(\"p\") if len(p.get_text(strip=True)) > 20]\n",
        "\n",
        "    clean_text = \"\\n\\n\".join(paragraphs)\n",
        "\n",
        "    return clean_text"
      ]
    },
    {
      "cell_type": "code",
      "execution_count": null,
      "metadata": {
        "id": "URaqBN2VE7XN"
      },
      "outputs": [],
      "source": [
        "def extract_table_as_text_block(soup, file_path):\n",
        "    \"\"\"\n",
        "    Extract tables from HTML as a single formatted text block for inclusion into page_text.\n",
        "    Skips navigation tables and handles no-table cases.\n",
        "\n",
        "    Args:\n",
        "        soup (BeautifulSoup): Parsed HTML.\n",
        "        file_path (str): Path to the file (for metadata).\n",
        "\n",
        "    Returns:\n",
        "        str: Formatted block of all tables from this file, or a message if no tables are found.\n",
        "    \"\"\"\n",
        "    try:\n",
        "        tables = pd.read_html(file_path)\n",
        "\n",
        "        def is_navigation_table(table):\n",
        "            \"\"\"Detect if table is a 'navigation-only' table with just 'back' and 'forward'.\"\"\"\n",
        "            flattened = [str(cell).strip().lower() for cell in table.to_numpy().flatten()]\n",
        "            navigation_keywords = {\"back\", \"forward\"}\n",
        "            return set(flattened).issubset(navigation_keywords)\n",
        "\n",
        "        def is_nan_only_table(table):\n",
        "            \"\"\"Detect if the entire table only contains NaN values.\"\"\"\n",
        "            return table.isna().all().all()\n",
        "\n",
        "        table_texts = []\n",
        "        table_count = 0\n",
        "\n",
        "        for idx, table in enumerate(tables):\n",
        "            if is_navigation_table(table) or is_nan_only_table(table):\n",
        "                continue\n",
        "\n",
        "            if table.shape[1] == 2:\n",
        "                # Drop rows where both the second and third columns are NaN\n",
        "                table = table.dropna(how='all')\n",
        "\n",
        "                last_col = table.columns[-1]\n",
        "\n",
        "                table[last_col] = table[last_col].fillna(\"\")\n",
        "\n",
        "            table_count += 1\n",
        "            formatted_table = tabulate(table, headers=\"keys\", tablefmt=\"grid\")\n",
        "\n",
        "            beautified_table = f\"\"\"\n",
        "╔════════════════════════════════════════════════════╗\n",
        "║            📊 Table {table_count} from {file_path}              ║\n",
        "╚════════════════════════════════════════════════════╝\n",
        "\n",
        "{formatted_table}\n",
        "\n",
        "╔════════════════════════════════════════════════════╗\n",
        "║            🔚 End of Table {table_count}                       ║\n",
        "╚════════════════════════════════════════════════════╝\n",
        "\"\"\"\n",
        "            table_texts.append(beautified_table)\n",
        "\n",
        "        if not table_texts:\n",
        "            return \"\"\n",
        "\n",
        "        return \"\\n\".join(table_texts)\n",
        "\n",
        "    except ValueError:\n",
        "        # No tables found case\n",
        "        return \"\""
      ]
    },
    {
      "cell_type": "code",
      "execution_count": null,
      "metadata": {
        "id": "Ib_UCNYLE-5_"
      },
      "outputs": [],
      "source": [
        "def extract_list(soup):\n",
        "    # Extract lists properly\n",
        "    lists = []\n",
        "    for ul in soup.find_all(\"ul\"):\n",
        "        items = [li.get_text(strip=True) for li in ul.find_all(\"li\")]\n",
        "        lists.append(items)\n",
        "    return lists"
      ]
    },
    {
      "cell_type": "code",
      "execution_count": null,
      "metadata": {},
      "outputs": [],
      "source": [
        "# top_p_list = [0.1, 0.2, 0.3, 0.4, 0.5, 0.6, 0.7, 0.8, 0.9, 1.0]\n",
        "top_p_list = [0.1, 0.5, 1.0]\n",
        "top_k_list = [0, 50, 100]"
      ]
    },
    {
      "cell_type": "code",
      "execution_count": null,
      "metadata": {},
      "outputs": [],
      "source": [
        "top_p = 1.0\n",
        "top_k = 100"
      ]
    },
    {
      "cell_type": "code",
      "execution_count": null,
      "metadata": {
        "id": "0zqgxtODDxVs"
      },
      "outputs": [],
      "source": [
        "class OllamaBot:\n",
        "    def __init__(self, top_p, top_k):\n",
        "        \"\"\"\n",
        "        Initialize the OllamaBot with the specified model.\n",
        "        \"\"\"\n",
        "        global valid_model_names\n",
        "\n",
        "        # Storage Processing\n",
        "        self.base_directory = DATA_DIR\n",
        "        self.web_documents = []  # Stores the web documents for retrieval\n",
        "        self._load_content()\n",
        "\n",
        "        # Initialize Llama model\n",
        "        # self.llm_model = ChatOllama(\n",
        "        #   model=\"gemma3:4b\",\n",
        "        #   temperature = 0.2,\n",
        "        #   num_predict=150,\n",
        "        #   top_p = 0.8,\n",
        "        #   top_k = 100\n",
        "        # )\n",
        "        \n",
        "        # default gemma 3:1b model.\n",
        "        self.llm_model = ChatOllama(\n",
        "          model=\"gemma3:1b\",\n",
        "          temperature = 0,\n",
        "          num_predict=150,\n",
        "          top_p = top_p,\n",
        "          top_k = top_k\n",
        "        )\n",
        "        \n",
        "        self._initialize_rag_application()\n",
        "\n",
        "    def _initialize_rag_application(self):\n",
        "        \"\"\"\n",
        "        Initializes the RAGApplication.\n",
        "        \"\"\"\n",
        "        global rag_application\n",
        "\n",
        "        text_splitter = RecursiveCharacterTextSplitter.from_tiktoken_encoder(\n",
        "            chunk_size=250, chunk_overlap=0\n",
        "        )\n",
        "\n",
        "        doc_splits = text_splitter.split_documents(self.web_documents)\n",
        "\n",
        "        embedding_model = HuggingFaceEmbeddings(model_name=\"./embeddings/offline_model\")\n",
        "\n",
        "        vectorstore = SKLearnVectorStore.from_documents(\n",
        "            documents=doc_splits,\n",
        "            embedding=embedding_model,\n",
        "        )\n",
        "\n",
        "        retriever = vectorstore.as_retriever(k=4)\n",
        "\n",
        "        prompt = PromptTemplate(\n",
        "            template=\"\"\"\n",
        "            You are an AI assistant for the GEO application, a tool used for well log authoring, analysis, and reporting by geologists, geoscientists, and engineers.\n",
        "\n",
        "            📘 Instructions:\n",
        "            Use only the GEO help guide and related documentation to answer.\n",
        "            Do not speculate or include unnecessary explanations.\n",
        "            \n",
        "            ---\n",
        "            **Documents:**\n",
        "            {documents}\n",
        "            ---\n",
        "\n",
        "            **Feedback:**\n",
        "            {feedback}\n",
        "            ---\n",
        "\n",
        "            **Question:** {question}\n",
        "\n",
        "            **Your Optimized Answer:**\n",
        "            \"\"\",\n",
        "            input_variables=[\"question\", \"documents\", \"feedback\"]\n",
        "        )\n",
        "\n",
        "        rag_chain = prompt | self.llm_model | StrOutputParser()\n",
        "        rag_application = RAGApplication(retriever, rag_chain, self.web_documents)\n",
        "\n",
        "    def _list_htm_files(self):\n",
        "        \"\"\"\n",
        "        Recursively finds all .htm files in the base directory and its subdirectories.\n",
        "        \"\"\"\n",
        "        htm_files = []\n",
        "        for root, _, files in os.walk(self.base_directory):\n",
        "            for file in files:\n",
        "                if file.endswith(\".htm\"):\n",
        "                    relative_path = os.path.relpath(os.path.join(root, file), start=self.base_directory)\n",
        "                    htm_files.append(self.base_directory + \"/\" + relative_path)\n",
        "        return htm_files\n",
        "\n",
        "    def _load_content(self, selectedOptions=None):\n",
        "        \"\"\"\n",
        "        Load and process all .htm files from the base directory.\n",
        "        \"\"\"\n",
        "        htm_files = self._list_htm_files()\n",
        "\n",
        "        if selectedOptions is None:\n",
        "            selectedOptions = [\"text\", \"table\", \"list\"]\n",
        "\n",
        "        self.web_documents = []\n",
        "        page_texts = []\n",
        "\n",
        "        for file_path in htm_files:\n",
        "            try:\n",
        "                with open(file_path, encoding=\"utf-8\") as file:\n",
        "                    content = file.read()\n",
        "                    content = content[content.find(\"<body>\")+6:content.find(\"</body>\")]\n",
        "\n",
        "                    soup = BeautifulSoup(content, \"html.parser\")\n",
        "\n",
        "                    if \"text\" in selectedOptions:\n",
        "                        clean_text = extract_text(soup)\n",
        "                    else:\n",
        "                        clean_text = \"\"\n",
        "\n",
        "                    if \"table\" in selectedOptions:\n",
        "                        formatted_table = extract_table_as_text_block(soup, file_path)\n",
        "                    else:\n",
        "                        formatted_table = \"\"\n",
        "\n",
        "                    if \"list\" in selectedOptions:\n",
        "                        lists = extract_list(soup)\n",
        "                    else:\n",
        "                        lists = \"\"\n",
        "\n",
        "                    page_text = f\"{clean_text}\\n{formatted_table}\\n{lists}\".strip()\n",
        "                    page_texts.append(page_text)\n",
        "\n",
        "                    document = LangchainDocument(page_content=page_text)\n",
        "                    self.web_documents.append(document)\n",
        "\n",
        "            except UnicodeDecodeError:\n",
        "                logging.error(f\"Could not read the file {file_path}. Check the file encoding.\")\n",
        "\n",
        "        logging.info(f\"Processed content saved.\")\n",
        "\n",
        "    def add(self, content):\n",
        "        \"\"\"\n",
        "        Add new content to the bot's memory.\n",
        "        \"\"\"\n",
        "        new_document = LangchainDocument(page_content=content)\n",
        "        self.web_documents.append(new_document)\n",
        "        self._initialize_rag_application()\n",
        "\n",
        "    def query(self, question):\n",
        "        \"\"\"\n",
        "        Query the bot and get a response.\n",
        "        \"\"\"\n",
        "        global rag_application\n",
        "\n",
        "        if rag_application is None:\n",
        "            logging.error(\"RAG application is not initialized.\")\n",
        "            return \"Error: RAG application is not initialized.\"\n",
        "\n",
        "        response = rag_application.run(question)\n",
        "        return response"
      ]
    },
    {
      "cell_type": "code",
      "execution_count": null,
      "metadata": {
        "colab": {
          "base_uri": "https://localhost:8080/"
        },
        "id": "wSF__6zvH_xr",
        "outputId": "28abe963-9a33-4f21-bfcd-153744a9a7fd"
      },
      "outputs": [],
      "source": [
        "ai_bot = OllamaBot(top_p, top_k)"
      ]
    },
    {
      "cell_type": "markdown",
      "metadata": {},
      "source": [
        "## Prompt Timings"
      ]
    },
    {
      "cell_type": "code",
      "execution_count": null,
      "metadata": {},
      "outputs": [],
      "source": [
        "import time\n",
        "import pandas as pd"
      ]
    },
    {
      "cell_type": "code",
      "execution_count": null,
      "metadata": {},
      "outputs": [],
      "source": [
        "# Model name\n",
        "model_name = \"gemma3:1b\""
      ]
    },
    {
      "cell_type": "code",
      "execution_count": null,
      "metadata": {},
      "outputs": [],
      "source": [
        "questions = [\n",
        "    \"Why can't I add 251 curve shades to my log?\",\n",
        "    \"What is the maximum number of data points allowed per curve?\",\n",
        "    \"I want to use the name \\\"Hydrocarbon bearing zone highlighted\\\" as my curve shade name. Why is it not allowed?\",\n",
        "    \"What is the maximum number of curves I can load in a data file?\",\n",
        "    \"I have already added 20,000 modifiers to my log. Why can't I add more?\",\n",
        "    \"How many log headers can I add to my log?\",\n",
        "    \"How many tadpole definitions am I allowed to create?\",\n",
        "    \"Why can't I add another layout to my log?\"\n",
        "]"
      ]
    },
    {
      "cell_type": "code",
      "execution_count": null,
      "metadata": {},
      "outputs": [],
      "source": [
        "results = []"
      ]
    },
    {
      "cell_type": "code",
      "execution_count": null,
      "metadata": {},
      "outputs": [],
      "source": [
        "# Run each query\n",
        "for question in questions:\n",
        "    start_time = time.time()\n",
        "    response = ai_bot.query(question)\n",
        "    end_time = time.time()\n",
        "    duration = round(end_time - start_time, 2)\n",
        "\n",
        "    results.append({\n",
        "        \"question\": question,\n",
        "        \"response\": response,\n",
        "        \"running time (s)\": duration,\n",
        "        \"model name\": model_name\n",
        "    })"
      ]
    },
    {
      "cell_type": "code",
      "execution_count": null,
      "metadata": {},
      "outputs": [],
      "source": [
        "# Display as table\n",
        "df = pd.DataFrame(results)\n",
        "display(df)"
      ]
    },
    {
      "cell_type": "code",
      "execution_count": null,
      "metadata": {},
      "outputs": [],
      "source": [
        "%pip install XlsxWriter"
      ]
    },
    {
      "cell_type": "code",
      "execution_count": null,
      "metadata": {},
      "outputs": [],
      "source": [
        "# Save to Excel with formatting\n",
        "excel_path = \"Excel_Data/Gemma/prompt_timings_results_09.xlsx\"\n",
        "with pd.ExcelWriter(excel_path, engine='xlsxwriter') as writer:\n",
        "    df.to_excel(writer, sheet_name='PromptResults', index=False)\n",
        "    \n",
        "    # Apply some basic formatting\n",
        "    workbook = writer.book\n",
        "    worksheet = writer.sheets['PromptResults']\n",
        "    format_wrap = workbook.add_format({'text_wrap': True, 'valign': 'top'})\n",
        "    worksheet.set_column('A:A', 50, format_wrap)  # Question\n",
        "    worksheet.set_column('B:B', 70, format_wrap)  # Response\n",
        "    worksheet.set_column('C:C', 18)               # Running Time\n",
        "    worksheet.set_column('D:D', 15)               # Model Name\n",
        "\n",
        "# Display the DataFrame in notebook\n",
        "display(df)"
      ]
    }
  ],
  "metadata": {
    "accelerator": "GPU",
    "colab": {
      "authorship_tag": "ABX9TyM72gT33YROTvw/iOzBozoS",
      "gpuType": "T4",
      "include_colab_link": true,
      "mount_file_id": "1VdmZgAAqHSHdNcYYJEosB3DZAlbdLq19",
      "provenance": []
    },
    "kernelspec": {
      "display_name": "venv",
      "language": "python",
      "name": "python3"
    },
    "language_info": {
      "codemirror_mode": {
        "name": "ipython",
        "version": 3
      },
      "file_extension": ".py",
      "mimetype": "text/x-python",
      "name": "python",
      "nbconvert_exporter": "python",
      "pygments_lexer": "ipython3",
      "version": "3.11.0"
    },
    "widgets": {
      "application/vnd.jupyter.widget-state+json": {
        "211fc957897a4b648c7472ffcf0dfb5c": {
          "model_module": "@jupyter-widgets/output",
          "model_module_version": "1.0.0",
          "model_name": "OutputModel",
          "state": {
            "_dom_classes": [],
            "_model_module": "@jupyter-widgets/output",
            "_model_module_version": "1.0.0",
            "_model_name": "OutputModel",
            "_view_count": null,
            "_view_module": "@jupyter-widgets/output",
            "_view_module_version": "1.0.0",
            "_view_name": "OutputView",
            "layout": "IPY_MODEL_bf6949f69ab3400b84d1a9bd92ac5d79",
            "msg_id": "",
            "outputs": [
              {
                "name": "stdout",
                "output_type": "stream",
                "text": [
                  "AI Bot Response:\n",
                  " You can define up to 200 tracks in one ODF file.\n"
                ]
              }
            ]
          }
        },
        "5f0df221121e47b4a6cd814d71340b8b": {
          "model_module": "@jupyter-widgets/controls",
          "model_module_version": "1.5.0",
          "model_name": "ButtonModel",
          "state": {
            "_dom_classes": [],
            "_model_module": "@jupyter-widgets/controls",
            "_model_module_version": "1.5.0",
            "_model_name": "ButtonModel",
            "_view_count": null,
            "_view_module": "@jupyter-widgets/controls",
            "_view_module_version": "1.5.0",
            "_view_name": "ButtonView",
            "button_style": "primary",
            "description": "Submit",
            "disabled": false,
            "icon": "",
            "layout": "IPY_MODEL_cba980fdfb1442a8984e268808b01ff0",
            "style": "IPY_MODEL_5f20b1e6f1e14e9db57a5953092095c9",
            "tooltip": "Click to query AI bot"
          }
        },
        "5f20b1e6f1e14e9db57a5953092095c9": {
          "model_module": "@jupyter-widgets/controls",
          "model_module_version": "1.5.0",
          "model_name": "ButtonStyleModel",
          "state": {
            "_model_module": "@jupyter-widgets/controls",
            "_model_module_version": "1.5.0",
            "_model_name": "ButtonStyleModel",
            "_view_count": null,
            "_view_module": "@jupyter-widgets/base",
            "_view_module_version": "1.2.0",
            "_view_name": "StyleView",
            "button_color": null,
            "font_weight": ""
          }
        },
        "72fd9f9d6f4941c4bb4793aaffcf5380": {
          "model_module": "@jupyter-widgets/controls",
          "model_module_version": "1.5.0",
          "model_name": "TextModel",
          "state": {
            "_dom_classes": [],
            "_model_module": "@jupyter-widgets/controls",
            "_model_module_version": "1.5.0",
            "_model_name": "TextModel",
            "_view_count": null,
            "_view_module": "@jupyter-widgets/controls",
            "_view_module_version": "1.5.0",
            "_view_name": "TextView",
            "continuous_update": true,
            "description": "Question:",
            "description_tooltip": null,
            "disabled": false,
            "layout": "IPY_MODEL_c5f4a113e5694f719b3de2937b53e7d3",
            "placeholder": "Enter your question here...",
            "style": "IPY_MODEL_7c57b26ff215460fb377bd9be3e0b71d",
            "value": "How many tracks can you define in one ODF?"
          }
        },
        "7c57b26ff215460fb377bd9be3e0b71d": {
          "model_module": "@jupyter-widgets/controls",
          "model_module_version": "1.5.0",
          "model_name": "DescriptionStyleModel",
          "state": {
            "_model_module": "@jupyter-widgets/controls",
            "_model_module_version": "1.5.0",
            "_model_name": "DescriptionStyleModel",
            "_view_count": null,
            "_view_module": "@jupyter-widgets/base",
            "_view_module_version": "1.2.0",
            "_view_name": "StyleView",
            "description_width": ""
          }
        },
        "bf6949f69ab3400b84d1a9bd92ac5d79": {
          "model_module": "@jupyter-widgets/base",
          "model_module_version": "1.2.0",
          "model_name": "LayoutModel",
          "state": {
            "_model_module": "@jupyter-widgets/base",
            "_model_module_version": "1.2.0",
            "_model_name": "LayoutModel",
            "_view_count": null,
            "_view_module": "@jupyter-widgets/base",
            "_view_module_version": "1.2.0",
            "_view_name": "LayoutView",
            "align_content": null,
            "align_items": null,
            "align_self": null,
            "border": null,
            "bottom": null,
            "display": null,
            "flex": null,
            "flex_flow": null,
            "grid_area": null,
            "grid_auto_columns": null,
            "grid_auto_flow": null,
            "grid_auto_rows": null,
            "grid_column": null,
            "grid_gap": null,
            "grid_row": null,
            "grid_template_areas": null,
            "grid_template_columns": null,
            "grid_template_rows": null,
            "height": null,
            "justify_content": null,
            "justify_items": null,
            "left": null,
            "margin": null,
            "max_height": null,
            "max_width": null,
            "min_height": null,
            "min_width": null,
            "object_fit": null,
            "object_position": null,
            "order": null,
            "overflow": null,
            "overflow_x": null,
            "overflow_y": null,
            "padding": null,
            "right": null,
            "top": null,
            "visibility": null,
            "width": null
          }
        },
        "c5f4a113e5694f719b3de2937b53e7d3": {
          "model_module": "@jupyter-widgets/base",
          "model_module_version": "1.2.0",
          "model_name": "LayoutModel",
          "state": {
            "_model_module": "@jupyter-widgets/base",
            "_model_module_version": "1.2.0",
            "_model_name": "LayoutModel",
            "_view_count": null,
            "_view_module": "@jupyter-widgets/base",
            "_view_module_version": "1.2.0",
            "_view_name": "LayoutView",
            "align_content": null,
            "align_items": null,
            "align_self": null,
            "border": null,
            "bottom": null,
            "display": null,
            "flex": null,
            "flex_flow": null,
            "grid_area": null,
            "grid_auto_columns": null,
            "grid_auto_flow": null,
            "grid_auto_rows": null,
            "grid_column": null,
            "grid_gap": null,
            "grid_row": null,
            "grid_template_areas": null,
            "grid_template_columns": null,
            "grid_template_rows": null,
            "height": null,
            "justify_content": null,
            "justify_items": null,
            "left": null,
            "margin": null,
            "max_height": null,
            "max_width": null,
            "min_height": null,
            "min_width": null,
            "object_fit": null,
            "object_position": null,
            "order": null,
            "overflow": null,
            "overflow_x": null,
            "overflow_y": null,
            "padding": null,
            "right": null,
            "top": null,
            "visibility": null,
            "width": "100%"
          }
        },
        "cba980fdfb1442a8984e268808b01ff0": {
          "model_module": "@jupyter-widgets/base",
          "model_module_version": "1.2.0",
          "model_name": "LayoutModel",
          "state": {
            "_model_module": "@jupyter-widgets/base",
            "_model_module_version": "1.2.0",
            "_model_name": "LayoutModel",
            "_view_count": null,
            "_view_module": "@jupyter-widgets/base",
            "_view_module_version": "1.2.0",
            "_view_name": "LayoutView",
            "align_content": null,
            "align_items": null,
            "align_self": null,
            "border": null,
            "bottom": null,
            "display": null,
            "flex": null,
            "flex_flow": null,
            "grid_area": null,
            "grid_auto_columns": null,
            "grid_auto_flow": null,
            "grid_auto_rows": null,
            "grid_column": null,
            "grid_gap": null,
            "grid_row": null,
            "grid_template_areas": null,
            "grid_template_columns": null,
            "grid_template_rows": null,
            "height": null,
            "justify_content": null,
            "justify_items": null,
            "left": null,
            "margin": null,
            "max_height": null,
            "max_width": null,
            "min_height": null,
            "min_width": null,
            "object_fit": null,
            "object_position": null,
            "order": null,
            "overflow": null,
            "overflow_x": null,
            "overflow_y": null,
            "padding": null,
            "right": null,
            "top": null,
            "visibility": null,
            "width": null
          }
        }
      }
    }
  },
  "nbformat": 4,
  "nbformat_minor": 0
}
